{
 "cells": [
  {
   "cell_type": "code",
   "execution_count": 1,
   "id": "4343e1af",
   "metadata": {},
   "outputs": [],
   "source": [
    "# K Nearest Neighbour is a simple algorithm that stores all the available cases and\n",
    "# classifies the new data or case based on a similarity measure\n",
    "\n",
    "# K in KNN denotes the number of nearest neighbour which\n",
    "# are voting class of the new data or testing data \n",
    "\n",
    "# Recommender System is the biggest application of KNN\n",
    "\n",
    "# Euclidean Distance is the square root of the sum of the\n",
    "# squared differences between two vectors\n",
    "# p1=(1,1) & p2=(5,4)\n",
    "# Euclidean distance = squareroot of( (5-1)square + (4-1)square )"
   ]
  },
  {
   "cell_type": "code",
   "execution_count": 3,
   "id": "e206d052",
   "metadata": {},
   "outputs": [
    {
     "name": "stdout",
     "output_type": "stream",
     "text": [
      "sepal_length,SepalWidthCm,PetalLengthCm,PetalWidthCm,Species\n",
      "5.1,3.5,1.4,0.2,Iris-setosa\n",
      "4.9,3,1.4,0.2,Iris-setosa\n",
      "4.7,3.2,1.3,0.2,Iris-setosa\n",
      "4.6,3.1,1.5,0.2,Iris-setosa\n",
      "5,3.6,1.4,0.2,Iris-setosa\n",
      "5.4,3.9,1.7,0.4,Iris-setosa\n",
      "4.6,3.4,1.4,0.3,Iris-setosa\n",
      "5,3.4,1.5,0.2,Iris-setosa\n",
      "4.4,2.9,1.4,0.2,Iris-setosa\n",
      "4.9,3.1,1.5,0.1,Iris-setosa\n",
      "5.4,3.7,1.5,0.2,Iris-setosa\n",
      "4.8,3.4,1.6,0.2,Iris-setosa\n",
      "4.8,3,1.4,0.1,Iris-setosa\n",
      "4.3,3,1.1,0.1,Iris-setosa\n",
      "5.8,4,1.2,0.2,Iris-setosa\n",
      "5.7,4.4,1.5,0.4,Iris-setosa\n",
      "5.4,3.9,1.3,0.4,Iris-setosa\n",
      "5.1,3.5,1.4,0.3,Iris-setosa\n",
      "5.7,3.8,1.7,0.3,Iris-setosa\n",
      "5.1,3.8,1.5,0.3,Iris-setosa\n",
      "5.4,3.4,1.7,0.2,Iris-setosa\n",
      "5.1,3.7,1.5,0.4,Iris-setosa\n",
      "4.6,3.6,1,0.2,Iris-setosa\n",
      "5.1,3.3,1.7,0.5,Iris-setosa\n",
      "4.8,3.4,1.9,0.2,Iris-setosa\n",
      "5,3,1.6,0.2,Iris-setosa\n",
      "5,3.4,1.6,0.4,Iris-setosa\n",
      "5.2,3.5,1.5,0.2,Iris-setosa\n",
      "5.2,3.4,1.4,0.2,Iris-setosa\n",
      "4.7,3.2,1.6,0.2,Iris-setosa\n",
      "4.8,3.1,1.6,0.2,Iris-setosa\n",
      "5.4,3.4,1.5,0.4,Iris-setosa\n",
      "5.2,4.1,1.5,0.1,Iris-setosa\n",
      "5.5,4.2,1.4,0.2,Iris-setosa\n",
      "4.9,3.1,1.5,0.1,Iris-setosa\n",
      "5,3.2,1.2,0.2,Iris-setosa\n",
      "5.5,3.5,1.3,0.2,Iris-setosa\n",
      "4.9,3.1,1.5,0.1,Iris-setosa\n",
      "4.4,3,1.3,0.2,Iris-setosa\n",
      "5.1,3.4,1.5,0.2,Iris-setosa\n",
      "5,3.5,1.3,0.3,Iris-setosa\n",
      "4.5,2.3,1.3,0.3,Iris-setosa\n",
      "4.4,3.2,1.3,0.2,Iris-setosa\n",
      "5,3.5,1.6,0.6,Iris-setosa\n",
      "5.1,3.8,1.9,0.4,Iris-setosa\n",
      "4.8,3,1.4,0.3,Iris-setosa\n",
      "5.1,3.8,1.6,0.2,Iris-setosa\n",
      "4.6,3.2,1.4,0.2,Iris-setosa\n",
      "5.3,3.7,1.5,0.2,Iris-setosa\n",
      "5,3.3,1.4,0.2,Iris-setosa\n",
      "7,3.2,4.7,1.4,Iris-versicolor\n",
      "6.4,3.2,4.5,1.5,Iris-versicolor\n",
      "6.9,3.1,4.9,1.5,Iris-versicolor\n",
      "5.5,2.3,4,1.3,Iris-versicolor\n",
      "6.5,2.8,4.6,1.5,Iris-versicolor\n",
      "5.7,2.8,4.5,1.3,Iris-versicolor\n",
      "6.3,3.3,4.7,1.6,Iris-versicolor\n",
      "4.9,2.4,3.3,1,Iris-versicolor\n",
      "6.6,2.9,4.6,1.3,Iris-versicolor\n",
      "5.2,2.7,3.9,1.4,Iris-versicolor\n",
      "5,2,3.5,1,Iris-versicolor\n",
      "5.9,3,4.2,1.5,Iris-versicolor\n",
      "6,2.2,4,1,Iris-versicolor\n",
      "6.1,2.9,4.7,1.4,Iris-versicolor\n",
      "5.6,2.9,3.6,1.3,Iris-versicolor\n",
      "6.7,3.1,4.4,1.4,Iris-versicolor\n",
      "5.6,3,4.5,1.5,Iris-versicolor\n",
      "5.8,2.7,4.1,1,Iris-versicolor\n",
      "6.2,2.2,4.5,1.5,Iris-versicolor\n",
      "5.6,2.5,3.9,1.1,Iris-versicolor\n",
      "5.9,3.2,4.8,1.8,Iris-versicolor\n",
      "6.1,2.8,4,1.3,Iris-versicolor\n",
      "6.3,2.5,4.9,1.5,Iris-versicolor\n",
      "6.1,2.8,4.7,1.2,Iris-versicolor\n",
      "6.4,2.9,4.3,1.3,Iris-versicolor\n",
      "6.6,3,4.4,1.4,Iris-versicolor\n",
      "6.8,2.8,4.8,1.4,Iris-versicolor\n",
      "6.7,3,5,1.7,Iris-versicolor\n",
      "6,2.9,4.5,1.5,Iris-versicolor\n",
      "5.7,2.6,3.5,1,Iris-versicolor\n",
      "5.5,2.4,3.8,1.1,Iris-versicolor\n",
      "5.5,2.4,3.7,1,Iris-versicolor\n",
      "5.8,2.7,3.9,1.2,Iris-versicolor\n",
      "6,2.7,5.1,1.6,Iris-versicolor\n",
      "5.4,3,4.5,1.5,Iris-versicolor\n",
      "6,3.4,4.5,1.6,Iris-versicolor\n",
      "6.7,3.1,4.7,1.5,Iris-versicolor\n",
      "6.3,2.3,4.4,1.3,Iris-versicolor\n",
      "5.6,3,4.1,1.3,Iris-versicolor\n",
      "5.5,2.5,4,1.3,Iris-versicolor\n",
      "5.5,2.6,4.4,1.2,Iris-versicolor\n",
      "6.1,3,4.6,1.4,Iris-versicolor\n",
      "5.8,2.6,4,1.2,Iris-versicolor\n",
      "5,2.3,3.3,1,Iris-versicolor\n",
      "5.6,2.7,4.2,1.3,Iris-versicolor\n",
      "5.7,3,4.2,1.2,Iris-versicolor\n",
      "5.7,2.9,4.2,1.3,Iris-versicolor\n",
      "6.2,2.9,4.3,1.3,Iris-versicolor\n",
      "5.1,2.5,3,1.1,Iris-versicolor\n",
      "5.7,2.8,4.1,1.3,Iris-versicolor\n",
      "6.3,3.3,6,2.5,Iris-virginica\n",
      "5.8,2.7,5.1,1.9,Iris-virginica\n",
      "7.1,3,5.9,2.1,Iris-virginica\n",
      "6.3,2.9,5.6,1.8,Iris-virginica\n",
      "6.5,3,5.8,2.2,Iris-virginica\n",
      "7.6,3,6.6,2.1,Iris-virginica\n",
      "4.9,2.5,4.5,1.7,Iris-virginica\n",
      "7.3,2.9,6.3,1.8,Iris-virginica\n",
      "6.7,2.5,5.8,1.8,Iris-virginica\n",
      "7.2,3.6,6.1,2.5,Iris-virginica\n",
      "6.5,3.2,5.1,2,Iris-virginica\n",
      "6.4,2.7,5.3,1.9,Iris-virginica\n",
      "6.8,3,5.5,2.1,Iris-virginica\n",
      "5.7,2.5,5,2,Iris-virginica\n",
      "5.8,2.8,5.1,2.4,Iris-virginica\n",
      "6.4,3.2,5.3,2.3,Iris-virginica\n",
      "6.5,3,5.5,1.8,Iris-virginica\n",
      "7.7,3.8,6.7,2.2,Iris-virginica\n",
      "7.7,2.6,6.9,2.3,Iris-virginica\n",
      "6,2.2,5,1.5,Iris-virginica\n",
      "6.9,3.2,5.7,2.3,Iris-virginica\n",
      "5.6,2.8,4.9,2,Iris-virginica\n",
      "7.7,2.8,6.7,2,Iris-virginica\n",
      "6.3,2.7,4.9,1.8,Iris-virginica\n",
      "6.7,3.3,5.7,2.1,Iris-virginica\n",
      "7.2,3.2,6,1.8,Iris-virginica\n",
      "6.2,2.8,4.8,1.8,Iris-virginica\n",
      "6.1,3,4.9,1.8,Iris-virginica\n",
      "6.4,2.8,5.6,2.1,Iris-virginica\n",
      "7.2,3,5.8,1.6,Iris-virginica\n",
      "7.4,2.8,6.1,1.9,Iris-virginica\n",
      "7.9,3.8,6.4,2,Iris-virginica\n",
      "6.4,2.8,5.6,2.2,Iris-virginica\n",
      "6.3,2.8,5.1,1.5,Iris-virginica\n",
      "6.1,2.6,5.6,1.4,Iris-virginica\n",
      "7.7,3,6.1,2.3,Iris-virginica\n",
      "6.3,3.4,5.6,2.4,Iris-virginica\n",
      "6.4,3.1,5.5,1.8,Iris-virginica\n",
      "6,3,4.8,1.8,Iris-virginica\n",
      "6.9,3.1,5.4,2.1,Iris-virginica\n",
      "6.7,3.1,5.6,2.4,Iris-virginica\n",
      "6.9,3.1,5.1,2.3,Iris-virginica\n",
      "5.8,2.7,5.1,1.9,Iris-virginica\n",
      "6.8,3.2,5.9,2.3,Iris-virginica\n",
      "6.7,3.3,5.7,2.5,Iris-virginica\n",
      "6.7,3,5.2,2.3,Iris-virginica\n",
      "6.3,2.5,5,1.9,Iris-virginica\n",
      "6.5,3,5.2,2,Iris-virginica\n",
      "6.2,3.4,5.4,2.3,Iris-virginica\n",
      "5.9,3,5.1,1.8,Iris-virginica\n"
     ]
    }
   ],
   "source": [
    "import csv\n",
    "with open(\"D:\\CSV Files\\Iris.csv\") as csvfile:\n",
    "    lines = csv.reader(csvfile)\n",
    "    for row in lines:\n",
    "        print(','.join(row))"
   ]
  },
  {
   "cell_type": "code",
   "execution_count": 74,
   "id": "85dce199",
   "metadata": {},
   "outputs": [],
   "source": [
    "import csv\n",
    "import random\n",
    "def loadDataset(filename, split, trainingSet=[], testSet=[]):\n",
    "    with open(filename, 'r') as csvfile:\n",
    "        lines = csv.reader(csvfile)\n",
    "        dataset = list(lines)\n",
    "        for x in range(len(dataset)-1):\n",
    "            for y in range(4):\n",
    "                dataset[x][y] = dataset[x][y]\n",
    "            if random.random() < split:\n",
    "                trainingSet.append(dataset[x])\n",
    "            else:\n",
    "                testSet.append(dataset[x])"
   ]
  },
  {
   "cell_type": "code",
   "execution_count": 75,
   "id": "5452d59b",
   "metadata": {},
   "outputs": [
    {
     "name": "stdout",
     "output_type": "stream",
     "text": [
      "Train:100\n",
      "Test:50\n"
     ]
    }
   ],
   "source": [
    "trainingSet=[]\n",
    "testSet=[]\n",
    "loadDataset(r'D:\\CSV Files\\Iris.csv', 0.66, trainingSet, testSet)\n",
    "print('Train:' + repr(len(trainingSet)))\n",
    "print('Test:' + repr(len(testSet)))"
   ]
  },
  {
   "cell_type": "markdown",
   "id": "28794a2a",
   "metadata": {},
   "source": [
    "# Using Euclidean Distance"
   ]
  },
  {
   "cell_type": "code",
   "execution_count": 76,
   "id": "53cf43e6",
   "metadata": {},
   "outputs": [],
   "source": [
    "import math\n",
    "def euclideanDistance(instance1, instance2, length):\n",
    "    distance = 0\n",
    "    for x in range(length):\n",
    "        distance += pow((int(instance1[x]) - int(instance2[x])), 2)\n",
    "    return math.sqrt(distance)"
   ]
  },
  {
   "cell_type": "code",
   "execution_count": 77,
   "id": "72a67486",
   "metadata": {},
   "outputs": [
    {
     "name": "stdout",
     "output_type": "stream",
     "text": [
      "Distance:3.4641016151377544\n"
     ]
    }
   ],
   "source": [
    "data1 = [2,2,2,'a']\n",
    "data2 = [4,4,4,'b']\n",
    "distance = euclideanDistance(data1,data2, 3)\n",
    "print(\"Distance:\" + repr(distance))"
   ]
  },
  {
   "cell_type": "code",
   "execution_count": 88,
   "id": "7b5daad9",
   "metadata": {},
   "outputs": [],
   "source": [
    "# K different points having least euclidean distance from the test instance\n",
    "import operator\n",
    "def getNeighbours(trainingSet, testInstance, k):\n",
    "    distances = []\n",
    "    length = len(testInstance)-1\n",
    "    for x in range(len(trainingSet)):\n",
    "        dist = euclideanDistance(testInstance, trainingSet[x], length)\n",
    "        distances.append((trainingSet[x], dist))\n",
    "    distances.sort(key=operator.itemgetter(1))\n",
    "    neighbours = []\n",
    "    for x in range(k):\n",
    "        neighbours.append(distances[x][0])\n",
    "    return neighbours"
   ]
  },
  {
   "cell_type": "code",
   "execution_count": 89,
   "id": "a4d34837",
   "metadata": {},
   "outputs": [
    {
     "name": "stdout",
     "output_type": "stream",
     "text": [
      "[[4, 4, 4, 'b']]\n"
     ]
    }
   ],
   "source": [
    "# checking whether the test instance belong to class a or b\n",
    "trainSet = [2,2,2,'a'],[4,4,4,'b']\n",
    "testInstance = [5,5,5]\n",
    "k = 1 #for k=1 testinstance lies in which column a/b\n",
    "neighbours = getNeighbours(trainSet, testInstance, 1)\n",
    "print(neighbours)"
   ]
  },
  {
   "cell_type": "code",
   "execution_count": 79,
   "id": "280d4503",
   "metadata": {},
   "outputs": [],
   "source": [
    "# predict a response based on neighbours\n",
    "\n",
    "import operator\n",
    "def getResponse(neighbours):\n",
    "    classVotes = {}\n",
    "    for x in range(len(neighbours)):\n",
    "        response = neighbours[x][-1]\n",
    "        if response in classVotes:\n",
    "            classVotes[response] += 1\n",
    "        else:\n",
    "            classVotes[response] = 1\n",
    "    sortedVotes = sorted(classVotes.items(), key=operator.itemgetter(1),reverse=True)\n",
    "    return sortedVotes[0][0]"
   ]
  },
  {
   "cell_type": "code",
   "execution_count": 80,
   "id": "0a36fd54",
   "metadata": {},
   "outputs": [
    {
     "name": "stdout",
     "output_type": "stream",
     "text": [
      "a\n"
     ]
    }
   ],
   "source": [
    "#we want to predict that [555] belong to which class\n",
    "neighbours = [[1,1,1,'a'],[2,2,2,'a'],[3,3,3,'b']]\n",
    "print(getResponse(neighbours))"
   ]
  },
  {
   "cell_type": "code",
   "execution_count": 81,
   "id": "db637817",
   "metadata": {},
   "outputs": [],
   "source": [
    "# now we evaluate the accuracy for the function\n",
    "#calculate the ratio of the total correct prediction to all the prediction made\n",
    "\n",
    "def getAccuracy(testSet, predictions):\n",
    "    correct = 0\n",
    "    for x in range(len(testSet)):\n",
    "        if testSet[x][-1] is predictions[x]:\n",
    "            correct += 1\n",
    "        return(correct/float(len(testSet))) * 100.0"
   ]
  },
  {
   "cell_type": "code",
   "execution_count": 82,
   "id": "dc81cecf",
   "metadata": {},
   "outputs": [
    {
     "name": "stdout",
     "output_type": "stream",
     "text": [
      "33.33333333333333\n"
     ]
    }
   ],
   "source": [
    "testSet = [[1,1,1,'a'],[2,2,2,'a'],[3,3,3,'b']]\n",
    "predictions = ['a','a','a']\n",
    "accuracy = getAccuracy(testSet, predictions)\n",
    "print(accuracy)"
   ]
  },
  {
   "cell_type": "code",
   "execution_count": 90,
   "id": "27f78748",
   "metadata": {},
   "outputs": [
    {
     "name": "stdout",
     "output_type": "stream",
     "text": [
      "Train Set:95\n",
      "Test Set:55\n"
     ]
    },
    {
     "ename": "ValueError",
     "evalue": "invalid literal for int() with base 10: 'sepal_length'",
     "output_type": "error",
     "traceback": [
      "\u001b[1;31m---------------------------------------------------------------------------\u001b[0m",
      "\u001b[1;31mValueError\u001b[0m                                Traceback (most recent call last)",
      "Input \u001b[1;32mIn [90]\u001b[0m, in \u001b[0;36m<cell line: 20>\u001b[1;34m()\u001b[0m\n\u001b[0;32m     18\u001b[0m     accuracy \u001b[38;5;241m=\u001b[39m getAccuracy(testSet, predictions)\n\u001b[0;32m     19\u001b[0m     \u001b[38;5;28mprint\u001b[39m(\u001b[38;5;124m'\u001b[39m\u001b[38;5;124mAccuracy:\u001b[39m\u001b[38;5;124m'\u001b[39m \u001b[38;5;241m+\u001b[39m \u001b[38;5;28mrepr\u001b[39m(accuracy) \u001b[38;5;241m+\u001b[39m \u001b[38;5;124m'\u001b[39m\u001b[38;5;124m%\u001b[39m\u001b[38;5;124m'\u001b[39m)  \n\u001b[1;32m---> 20\u001b[0m \u001b[43mmain\u001b[49m\u001b[43m(\u001b[49m\u001b[43m)\u001b[49m\n",
      "Input \u001b[1;32mIn [90]\u001b[0m, in \u001b[0;36mmain\u001b[1;34m()\u001b[0m\n\u001b[0;32m     12\u001b[0m k\u001b[38;5;241m=\u001b[39m\u001b[38;5;241m3\u001b[39m\n\u001b[0;32m     13\u001b[0m \u001b[38;5;28;01mfor\u001b[39;00m x \u001b[38;5;129;01min\u001b[39;00m \u001b[38;5;28mrange\u001b[39m(\u001b[38;5;28mlen\u001b[39m(testSet)):\n\u001b[1;32m---> 14\u001b[0m     neighbours \u001b[38;5;241m=\u001b[39m \u001b[43mgetNeighbours\u001b[49m\u001b[43m(\u001b[49m\u001b[43mtrainingSet\u001b[49m\u001b[43m,\u001b[49m\u001b[43m \u001b[49m\u001b[43mtestSet\u001b[49m\u001b[43m[\u001b[49m\u001b[43mx\u001b[49m\u001b[43m]\u001b[49m\u001b[43m,\u001b[49m\u001b[43m \u001b[49m\u001b[43mk\u001b[49m\u001b[43m)\u001b[49m\n\u001b[0;32m     15\u001b[0m     result \u001b[38;5;241m=\u001b[39m getNeighbours(neighbours)\n\u001b[0;32m     16\u001b[0m     predictions\u001b[38;5;241m.\u001b[39mappend(result)\n",
      "Input \u001b[1;32mIn [88]\u001b[0m, in \u001b[0;36mgetNeighbours\u001b[1;34m(trainingSet, testInstance, k)\u001b[0m\n\u001b[0;32m      5\u001b[0m length \u001b[38;5;241m=\u001b[39m \u001b[38;5;28mlen\u001b[39m(testInstance)\u001b[38;5;241m-\u001b[39m\u001b[38;5;241m1\u001b[39m\n\u001b[0;32m      6\u001b[0m \u001b[38;5;28;01mfor\u001b[39;00m x \u001b[38;5;129;01min\u001b[39;00m \u001b[38;5;28mrange\u001b[39m(\u001b[38;5;28mlen\u001b[39m(trainingSet)):\n\u001b[1;32m----> 7\u001b[0m     dist \u001b[38;5;241m=\u001b[39m \u001b[43meuclideanDistance\u001b[49m\u001b[43m(\u001b[49m\u001b[43mtestInstance\u001b[49m\u001b[43m,\u001b[49m\u001b[43m \u001b[49m\u001b[43mtrainingSet\u001b[49m\u001b[43m[\u001b[49m\u001b[43mx\u001b[49m\u001b[43m]\u001b[49m\u001b[43m,\u001b[49m\u001b[43m \u001b[49m\u001b[43mlength\u001b[49m\u001b[43m)\u001b[49m\n\u001b[0;32m      8\u001b[0m     distances\u001b[38;5;241m.\u001b[39mappend((trainingSet[x], dist))\n\u001b[0;32m      9\u001b[0m distances\u001b[38;5;241m.\u001b[39msort(key\u001b[38;5;241m=\u001b[39moperator\u001b[38;5;241m.\u001b[39mitemgetter(\u001b[38;5;241m1\u001b[39m))\n",
      "Input \u001b[1;32mIn [76]\u001b[0m, in \u001b[0;36meuclideanDistance\u001b[1;34m(instance1, instance2, length)\u001b[0m\n\u001b[0;32m      3\u001b[0m distance \u001b[38;5;241m=\u001b[39m \u001b[38;5;241m0\u001b[39m\n\u001b[0;32m      4\u001b[0m \u001b[38;5;28;01mfor\u001b[39;00m x \u001b[38;5;129;01min\u001b[39;00m \u001b[38;5;28mrange\u001b[39m(length):\n\u001b[1;32m----> 5\u001b[0m     distance \u001b[38;5;241m+\u001b[39m\u001b[38;5;241m=\u001b[39m \u001b[38;5;28mpow\u001b[39m((\u001b[38;5;28;43mint\u001b[39;49m\u001b[43m(\u001b[49m\u001b[43minstance1\u001b[49m\u001b[43m[\u001b[49m\u001b[43mx\u001b[49m\u001b[43m]\u001b[49m\u001b[43m)\u001b[49m \u001b[38;5;241m-\u001b[39m \u001b[38;5;28mint\u001b[39m(instance2[x])), \u001b[38;5;241m2\u001b[39m)\n\u001b[0;32m      6\u001b[0m \u001b[38;5;28;01mreturn\u001b[39;00m math\u001b[38;5;241m.\u001b[39msqrt(distance)\n",
      "\u001b[1;31mValueError\u001b[0m: invalid literal for int() with base 10: 'sepal_length'"
     ]
    }
   ],
   "source": [
    "#complie all the created functions to a single main function \n",
    "def main():\n",
    "    #prepare data\n",
    "    trainingSet=[]\n",
    "    testSet=[]\n",
    "    split = 0.67\n",
    "    loadDataset(r'D:\\CSV Files\\Iris.csv',split, trainingSet, testSet)\n",
    "    print('Train Set:' + repr(len(trainingSet)))\n",
    "    print('Test Set:' + repr(len(testSet)))\n",
    "    #generate Predictions\n",
    "    predictions = []\n",
    "    k=3\n",
    "    for x in range(len(testSet)):\n",
    "        neighbours = getNeighbours(trainingSet, testSet[x], k)\n",
    "        result = getNeighbours(neighbours)\n",
    "        predictions.append(result)\n",
    "        print('> predicted =' + repr(result) + ', actual=' + repr(testSet[x][-1]))\n",
    "    accuracy = getAccuracy(testSet, predictions)\n",
    "    print('Accuracy:' + repr(accuracy) + '%')  \n",
    "main()"
   ]
  }
 ],
 "metadata": {
  "kernelspec": {
   "display_name": "Python 3 (ipykernel)",
   "language": "python",
   "name": "python3"
  },
  "language_info": {
   "codemirror_mode": {
    "name": "ipython",
    "version": 3
   },
   "file_extension": ".py",
   "mimetype": "text/x-python",
   "name": "python",
   "nbconvert_exporter": "python",
   "pygments_lexer": "ipython3",
   "version": "3.10.1"
  }
 },
 "nbformat": 4,
 "nbformat_minor": 5
}
